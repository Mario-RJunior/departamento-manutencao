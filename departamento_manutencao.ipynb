{
  "nbformat": 4,
  "nbformat_minor": 0,
  "metadata": {
    "colab": {
      "name": "departamento_manutencao.ipynb",
      "provenance": [],
      "include_colab_link": true
    },
    "kernelspec": {
      "name": "python3",
      "display_name": "Python 3"
    }
  },
  "cells": [
    {
      "cell_type": "markdown",
      "metadata": {
        "id": "view-in-github",
        "colab_type": "text"
      },
      "source": [
        "<a href=\"https://colab.research.google.com/github/Mario-RJunior/departamento-manutencao/blob/main/departamento_manutencao.ipynb\" target=\"_parent\"><img src=\"https://colab.research.google.com/assets/colab-badge.svg\" alt=\"Open In Colab\"/></a>"
      ]
    },
    {
      "cell_type": "markdown",
      "metadata": {
        "id": "ypkE8c_Htk61"
      },
      "source": [
        "# Departamento de Produção"
      ]
    },
    {
      "cell_type": "markdown",
      "metadata": {
        "id": "l_k0O4FnttGj"
      },
      "source": [
        "## Importação das bibliotecas e da base de dados"
      ]
    },
    {
      "cell_type": "code",
      "metadata": {
        "id": "topqevQVtQPB"
      },
      "source": [
        "# Importação das bibliotecas\n",
        "import pandas as pd\n",
        "import numpy as np\n",
        "import matplotlib.pyplot as plt\n",
        "import seaborn as sns\n",
        "import cv2\n",
        "from skimage import io\n",
        "import tensorflow as tf\n",
        "from tensorflow.keras import layers, optimizers\n",
        "from tensorflow.keras.layers import Dense, Input, AveragePooling2D, Flatten, Dropout, MaxPool2D\n",
        "from tensorflow.keras.layers import Conv2D, BatchNormalization, Activation, Add, UpSampling2D, Concatenate\n",
        "from tensorflow.keras.applications import ResNet50\n",
        "from tensorflow.keras.models import Model, load_model\n",
        "from tensorflow.keras.callbacks import EarlyStopping, ModelCheckpoint\n",
        "import os"
      ],
      "execution_count": 1,
      "outputs": []
    },
    {
      "cell_type": "code",
      "metadata": {
        "id": "7pXPyfZYvkve",
        "colab": {
          "base_uri": "https://localhost:8080/"
        },
        "outputId": "cab97759-c402-4507-90f6-1bcb2264cd61"
      },
      "source": [
        "# Montando o drive do Google Colab\n",
        "from google.colab import drive\n",
        "drive.mount('/content/drive')"
      ],
      "execution_count": 2,
      "outputs": [
        {
          "output_type": "stream",
          "text": [
            "Mounted at /content/drive\n"
          ],
          "name": "stdout"
        }
      ]
    },
    {
      "cell_type": "code",
      "metadata": {
        "id": "ggGmIGzvysSG"
      },
      "source": [
        "# Dataframe com todas as imagens\n",
        "all_images_df = pd.read_csv('/content/drive/MyDrive/Departamento de manutenção/defect_and_no_defect.csv')"
      ],
      "execution_count": 3,
      "outputs": []
    },
    {
      "cell_type": "code",
      "metadata": {
        "colab": {
          "base_uri": "https://localhost:8080/"
        },
        "id": "luxfwPn5xtMM",
        "outputId": "ed941085-6e57-4c2a-d94d-697803de926a"
      },
      "source": [
        "# Shape\n",
        "all_images_df.shape"
      ],
      "execution_count": 4,
      "outputs": [
        {
          "output_type": "execute_result",
          "data": {
            "text/plain": [
              "(12997, 2)"
            ]
          },
          "metadata": {
            "tags": []
          },
          "execution_count": 4
        }
      ]
    },
    {
      "cell_type": "code",
      "metadata": {
        "colab": {
          "base_uri": "https://localhost:8080/",
          "height": 419
        },
        "id": "7p1BVKS3y8fy",
        "outputId": "1dc8dce2-6e0e-4fdd-85ea-145bef89a4c6"
      },
      "source": [
        "# Visualizando o dataframe\n",
        "all_images_df"
      ],
      "execution_count": 5,
      "outputs": [
        {
          "output_type": "execute_result",
          "data": {
            "text/html": [
              "<div>\n",
              "<style scoped>\n",
              "    .dataframe tbody tr th:only-of-type {\n",
              "        vertical-align: middle;\n",
              "    }\n",
              "\n",
              "    .dataframe tbody tr th {\n",
              "        vertical-align: top;\n",
              "    }\n",
              "\n",
              "    .dataframe thead th {\n",
              "        text-align: right;\n",
              "    }\n",
              "</style>\n",
              "<table border=\"1\" class=\"dataframe\">\n",
              "  <thead>\n",
              "    <tr style=\"text-align: right;\">\n",
              "      <th></th>\n",
              "      <th>ImageID</th>\n",
              "      <th>label</th>\n",
              "    </tr>\n",
              "  </thead>\n",
              "  <tbody>\n",
              "    <tr>\n",
              "      <th>0</th>\n",
              "      <td>0002cc93b.jpg</td>\n",
              "      <td>1</td>\n",
              "    </tr>\n",
              "    <tr>\n",
              "      <th>1</th>\n",
              "      <td>0007a71bf.jpg</td>\n",
              "      <td>1</td>\n",
              "    </tr>\n",
              "    <tr>\n",
              "      <th>2</th>\n",
              "      <td>000a4bcdd.jpg</td>\n",
              "      <td>1</td>\n",
              "    </tr>\n",
              "    <tr>\n",
              "      <th>3</th>\n",
              "      <td>000f6bf48.jpg</td>\n",
              "      <td>1</td>\n",
              "    </tr>\n",
              "    <tr>\n",
              "      <th>4</th>\n",
              "      <td>0014fce06.jpg</td>\n",
              "      <td>1</td>\n",
              "    </tr>\n",
              "    <tr>\n",
              "      <th>...</th>\n",
              "      <td>...</td>\n",
              "      <td>...</td>\n",
              "    </tr>\n",
              "    <tr>\n",
              "      <th>12992</th>\n",
              "      <td>0482ee1d6.jpg</td>\n",
              "      <td>0</td>\n",
              "    </tr>\n",
              "    <tr>\n",
              "      <th>12993</th>\n",
              "      <td>04802a6c2.jpg</td>\n",
              "      <td>0</td>\n",
              "    </tr>\n",
              "    <tr>\n",
              "      <th>12994</th>\n",
              "      <td>03ae2bc91.jpg</td>\n",
              "      <td>0</td>\n",
              "    </tr>\n",
              "    <tr>\n",
              "      <th>12995</th>\n",
              "      <td>04238d7e3.jpg</td>\n",
              "      <td>0</td>\n",
              "    </tr>\n",
              "    <tr>\n",
              "      <th>12996</th>\n",
              "      <td>023353d24.jpg</td>\n",
              "      <td>0</td>\n",
              "    </tr>\n",
              "  </tbody>\n",
              "</table>\n",
              "<p>12997 rows × 2 columns</p>\n",
              "</div>"
            ],
            "text/plain": [
              "             ImageID  label\n",
              "0      0002cc93b.jpg      1\n",
              "1      0007a71bf.jpg      1\n",
              "2      000a4bcdd.jpg      1\n",
              "3      000f6bf48.jpg      1\n",
              "4      0014fce06.jpg      1\n",
              "...              ...    ...\n",
              "12992  0482ee1d6.jpg      0\n",
              "12993  04802a6c2.jpg      0\n",
              "12994  03ae2bc91.jpg      0\n",
              "12995  04238d7e3.jpg      0\n",
              "12996  023353d24.jpg      0\n",
              "\n",
              "[12997 rows x 2 columns]"
            ]
          },
          "metadata": {
            "tags": []
          },
          "execution_count": 5
        }
      ]
    },
    {
      "cell_type": "markdown",
      "metadata": {
        "id": "QkEvn79czMLP"
      },
      "source": [
        "Nota:\n",
        "\n",
        "- Label 0: sem defeito.\n",
        "- Label 1: com defeito."
      ]
    },
    {
      "cell_type": "code",
      "metadata": {
        "id": "siacHQvwzB_a"
      },
      "source": [
        "# Dataframe com imagens com defeitos\n",
        "defect_class_mask_df = pd.read_csv('/content/drive/MyDrive/Departamento de manutenção/train.csv')"
      ],
      "execution_count": 11,
      "outputs": []
    },
    {
      "cell_type": "code",
      "metadata": {
        "colab": {
          "base_uri": "https://localhost:8080/"
        },
        "id": "DRPhRGmx02UY",
        "outputId": "c76a3746-282a-43a8-aadc-4272bc71292d"
      },
      "source": [
        "# Shape\n",
        "defect_class_mask_df.shape"
      ],
      "execution_count": 7,
      "outputs": [
        {
          "output_type": "execute_result",
          "data": {
            "text/plain": [
              "(5748, 3)"
            ]
          },
          "metadata": {
            "tags": []
          },
          "execution_count": 7
        }
      ]
    },
    {
      "cell_type": "code",
      "metadata": {
        "colab": {
          "base_uri": "https://localhost:8080/"
        },
        "id": "wfO5d8ZZ04uV",
        "outputId": "16a4a759-69d0-4d22-86f2-ee1699a0e6a6"
      },
      "source": [
        "# Porcentagem da quantidade de imagens com defeito\n",
        "percent = (defect_class_mask_df.shape[0]/all_images_df.shape[0]) * 100\n",
        "print('Percentual de imagens defeituosas: {}%'.format(percent))"
      ],
      "execution_count": 8,
      "outputs": [
        {
          "output_type": "stream",
          "text": [
            "Percentual de imagens defeituosas: 44.22559052088943%\n"
          ],
          "name": "stdout"
        }
      ]
    },
    {
      "cell_type": "code",
      "metadata": {
        "colab": {
          "base_uri": "https://localhost:8080/",
          "height": 419
        },
        "id": "0wYi8MY01UEf",
        "outputId": "622b1f5d-7408-499c-9f79-93c3865556d5"
      },
      "source": [
        "# Visualizando o dataframe\n",
        "defect_class_mask_df"
      ],
      "execution_count": 9,
      "outputs": [
        {
          "output_type": "execute_result",
          "data": {
            "text/html": [
              "<div>\n",
              "<style scoped>\n",
              "    .dataframe tbody tr th:only-of-type {\n",
              "        vertical-align: middle;\n",
              "    }\n",
              "\n",
              "    .dataframe tbody tr th {\n",
              "        vertical-align: top;\n",
              "    }\n",
              "\n",
              "    .dataframe thead th {\n",
              "        text-align: right;\n",
              "    }\n",
              "</style>\n",
              "<table border=\"1\" class=\"dataframe\">\n",
              "  <thead>\n",
              "    <tr style=\"text-align: right;\">\n",
              "      <th></th>\n",
              "      <th>ImageId</th>\n",
              "      <th>ClassId</th>\n",
              "      <th>EncodedPixels</th>\n",
              "    </tr>\n",
              "  </thead>\n",
              "  <tbody>\n",
              "    <tr>\n",
              "      <th>0</th>\n",
              "      <td>d2291de5c.jpg</td>\n",
              "      <td>1</td>\n",
              "      <td>147963 3 148213 9 148461 18 148711 24 148965 2...</td>\n",
              "    </tr>\n",
              "    <tr>\n",
              "      <th>1</th>\n",
              "      <td>78416c3d0.jpg</td>\n",
              "      <td>3</td>\n",
              "      <td>54365 3 54621 7 54877 10 55133 12 55388 14 556...</td>\n",
              "    </tr>\n",
              "    <tr>\n",
              "      <th>2</th>\n",
              "      <td>2283f2183.jpg</td>\n",
              "      <td>3</td>\n",
              "      <td>201217 43 201473 128 201729 213 201985 5086 20...</td>\n",
              "    </tr>\n",
              "    <tr>\n",
              "      <th>3</th>\n",
              "      <td>f0dc068a8.jpg</td>\n",
              "      <td>3</td>\n",
              "      <td>159207 26 159412 77 159617 128 159822 179 1600...</td>\n",
              "    </tr>\n",
              "    <tr>\n",
              "      <th>4</th>\n",
              "      <td>00d639396.jpg</td>\n",
              "      <td>3</td>\n",
              "      <td>229356 17 229595 34 229850 36 230105 37 230360...</td>\n",
              "    </tr>\n",
              "    <tr>\n",
              "      <th>...</th>\n",
              "      <td>...</td>\n",
              "      <td>...</td>\n",
              "      <td>...</td>\n",
              "    </tr>\n",
              "    <tr>\n",
              "      <th>5743</th>\n",
              "      <td>c12842f5e.jpg</td>\n",
              "      <td>3</td>\n",
              "      <td>88 23 342 29 596 34 850 39 1105 44 1361 46 161...</td>\n",
              "    </tr>\n",
              "    <tr>\n",
              "      <th>5744</th>\n",
              "      <td>2222a03b3.jpg</td>\n",
              "      <td>3</td>\n",
              "      <td>63332 4 63587 11 63841 20 64096 27 64351 35 64...</td>\n",
              "    </tr>\n",
              "    <tr>\n",
              "      <th>5745</th>\n",
              "      <td>b43ea2c01.jpg</td>\n",
              "      <td>1</td>\n",
              "      <td>185024 7 185279 11 185535 12 185790 13 186045 ...</td>\n",
              "    </tr>\n",
              "    <tr>\n",
              "      <th>5746</th>\n",
              "      <td>1bc37a6f4.jpg</td>\n",
              "      <td>3</td>\n",
              "      <td>303867 1 304122 3 304376 6 304613 3 304630 9 3...</td>\n",
              "    </tr>\n",
              "    <tr>\n",
              "      <th>5747</th>\n",
              "      <td>f4413e172.jpg</td>\n",
              "      <td>3</td>\n",
              "      <td>254911 3 255165 8 255419 12 255672 18 255926 2...</td>\n",
              "    </tr>\n",
              "  </tbody>\n",
              "</table>\n",
              "<p>5748 rows × 3 columns</p>\n",
              "</div>"
            ],
            "text/plain": [
              "            ImageId  ClassId                                      EncodedPixels\n",
              "0     d2291de5c.jpg        1  147963 3 148213 9 148461 18 148711 24 148965 2...\n",
              "1     78416c3d0.jpg        3  54365 3 54621 7 54877 10 55133 12 55388 14 556...\n",
              "2     2283f2183.jpg        3  201217 43 201473 128 201729 213 201985 5086 20...\n",
              "3     f0dc068a8.jpg        3  159207 26 159412 77 159617 128 159822 179 1600...\n",
              "4     00d639396.jpg        3  229356 17 229595 34 229850 36 230105 37 230360...\n",
              "...             ...      ...                                                ...\n",
              "5743  c12842f5e.jpg        3  88 23 342 29 596 34 850 39 1105 44 1361 46 161...\n",
              "5744  2222a03b3.jpg        3  63332 4 63587 11 63841 20 64096 27 64351 35 64...\n",
              "5745  b43ea2c01.jpg        1  185024 7 185279 11 185535 12 185790 13 186045 ...\n",
              "5746  1bc37a6f4.jpg        3  303867 1 304122 3 304376 6 304613 3 304630 9 3...\n",
              "5747  f4413e172.jpg        3  254911 3 255165 8 255419 12 255672 18 255926 2...\n",
              "\n",
              "[5748 rows x 3 columns]"
            ]
          },
          "metadata": {
            "tags": []
          },
          "execution_count": 9
        }
      ]
    },
    {
      "cell_type": "code",
      "metadata": {
        "colab": {
          "base_uri": "https://localhost:8080/"
        },
        "id": "Y0QNfOhR2NfZ",
        "outputId": "b4077eee-6d08-47ac-da2a-bd9df6fbccbf"
      },
      "source": [
        "# Valores únicos dos defeitos\n",
        "defect_class_mask_df['ClassId'].unique()"
      ],
      "execution_count": 10,
      "outputs": [
        {
          "output_type": "execute_result",
          "data": {
            "text/plain": [
              "array([1, 3, 4, 2])"
            ]
          },
          "metadata": {
            "tags": []
          },
          "execution_count": 10
        }
      ]
    },
    {
      "cell_type": "markdown",
      "metadata": {
        "id": "CQUAyrpU3gVK"
      },
      "source": [
        "## Exploração e visualização dos dados"
      ]
    },
    {
      "cell_type": "code",
      "metadata": {
        "id": "R09zcixf2mZ-",
        "colab": {
          "base_uri": "https://localhost:8080/"
        },
        "outputId": "e97226b4-283c-45cb-8792-3c6cec3a3a4a"
      },
      "source": [
        "# Quantidade de imagens com defeitos e sem defeitos\n",
        "all_images_df['label'].value_counts()"
      ],
      "execution_count": 13,
      "outputs": [
        {
          "output_type": "execute_result",
          "data": {
            "text/plain": [
              "1    7095\n",
              "0    5902\n",
              "Name: label, dtype: int64"
            ]
          },
          "metadata": {
            "tags": []
          },
          "execution_count": 13
        }
      ]
    },
    {
      "cell_type": "code",
      "metadata": {
        "colab": {
          "base_uri": "https://localhost:8080/",
          "height": 295
        },
        "id": "-H_domy0zWRs",
        "outputId": "17645aee-6a3d-45fe-c2d5-334150384ec8"
      },
      "source": [
        "# Contagem gráficamente\n",
        "# plt.figure(figsize=(10,10))\n",
        "sns.countplot(data=all_images_df, x='label')\n",
        "plt.ylabel('Número de imagens')\n",
        "plt.xlabel('0 - Não defeito  1 - Defeito')\n",
        "plt.title('Defeitos e não defeitos');"
      ],
      "execution_count": 15,
      "outputs": [
        {
          "output_type": "display_data",
          "data": {
            "image/png": "[encoded data removed]",
            "text/plain": [
              "<Figure size 432x288 with 1 Axes>"
            ]
          },
          "metadata": {
            "tags": [],
            "needs_background": "light"
          }
        }
      ]
    },
    {
      "cell_type": "code",
      "metadata": {
        "colab": {
          "base_uri": "https://localhost:8080/",
          "height": 295
        },
        "id": "iFSp90l-zy8K",
        "outputId": "21369d83-a5b8-4a96-a920-927121c1e100"
      },
      "source": [
        "# Contagem dos tipos de erros\n",
        "sns.countplot(data=defect_class_mask_df, x='ClassId')\n",
        "plt.ylabel('Número de imagens por defeito')\n",
        "plt.xlabel('ClassId')\n",
        "plt.title('Número de imagens por classe de defeito');"
      ],
      "execution_count": 17,
      "outputs": [
        {
          "output_type": "display_data",
          "data": {
            "image/png": "[encoded data removed]",
            "text/plain": [
              "<Figure size 432x288 with 1 Axes>"
            ]
          },
          "metadata": {
            "tags": [],
            "needs_background": "light"
          }
        }
      ]
    },
    {
      "cell_type": "markdown",
      "metadata": {
        "id": "jdUpVs7t7Nin"
      },
      "source": [
        "Vemos que esta é uma base de dados extremamente desbalanceada.\n",
        "\n",
        "Outra observação importante é o fato de que as imagens podem ter mais de um defeito e por isso é importante fazer uma contagem dos erros por imagem."
      ]
    },
    {
      "cell_type": "code",
      "metadata": {
        "id": "F0EcnMAs8p52"
      },
      "source": [
        "# Criando atributo para número de erros por imagem\n",
        "defect_class_mask_df['mask'] = defect_class_mask_df['ClassId'].map(lambda x: 1)"
      ],
      "execution_count": 18,
      "outputs": []
    },
    {
      "cell_type": "code",
      "metadata": {
        "colab": {
          "base_uri": "https://localhost:8080/",
          "height": 204
        },
        "id": "72VFvE7R8_ce",
        "outputId": "2141eb24-c935-4886-c26f-98b022b2f7f3"
      },
      "source": [
        "# Visualizando o cabeçalho\n",
        "defect_class_mask_df.head()"
      ],
      "execution_count": 19,
      "outputs": [
        {
          "output_type": "execute_result",
          "data": {
            "text/html": [
              "<div>\n",
              "<style scoped>\n",
              "    .dataframe tbody tr th:only-of-type {\n",
              "        vertical-align: middle;\n",
              "    }\n",
              "\n",
              "    .dataframe tbody tr th {\n",
              "        vertical-align: top;\n",
              "    }\n",
              "\n",
              "    .dataframe thead th {\n",
              "        text-align: right;\n",
              "    }\n",
              "</style>\n",
              "<table border=\"1\" class=\"dataframe\">\n",
              "  <thead>\n",
              "    <tr style=\"text-align: right;\">\n",
              "      <th></th>\n",
              "      <th>ImageId</th>\n",
              "      <th>ClassId</th>\n",
              "      <th>EncodedPixels</th>\n",
              "      <th>mask</th>\n",
              "    </tr>\n",
              "  </thead>\n",
              "  <tbody>\n",
              "    <tr>\n",
              "      <th>0</th>\n",
              "      <td>d2291de5c.jpg</td>\n",
              "      <td>1</td>\n",
              "      <td>147963 3 148213 9 148461 18 148711 24 148965 2...</td>\n",
              "      <td>1</td>\n",
              "    </tr>\n",
              "    <tr>\n",
              "      <th>1</th>\n",
              "      <td>78416c3d0.jpg</td>\n",
              "      <td>3</td>\n",
              "      <td>54365 3 54621 7 54877 10 55133 12 55388 14 556...</td>\n",
              "      <td>1</td>\n",
              "    </tr>\n",
              "    <tr>\n",
              "      <th>2</th>\n",
              "      <td>2283f2183.jpg</td>\n",
              "      <td>3</td>\n",
              "      <td>201217 43 201473 128 201729 213 201985 5086 20...</td>\n",
              "      <td>1</td>\n",
              "    </tr>\n",
              "    <tr>\n",
              "      <th>3</th>\n",
              "      <td>f0dc068a8.jpg</td>\n",
              "      <td>3</td>\n",
              "      <td>159207 26 159412 77 159617 128 159822 179 1600...</td>\n",
              "      <td>1</td>\n",
              "    </tr>\n",
              "    <tr>\n",
              "      <th>4</th>\n",
              "      <td>00d639396.jpg</td>\n",
              "      <td>3</td>\n",
              "      <td>229356 17 229595 34 229850 36 230105 37 230360...</td>\n",
              "      <td>1</td>\n",
              "    </tr>\n",
              "  </tbody>\n",
              "</table>\n",
              "</div>"
            ],
            "text/plain": [
              "         ImageId  ...  mask\n",
              "0  d2291de5c.jpg  ...     1\n",
              "1  78416c3d0.jpg  ...     1\n",
              "2  2283f2183.jpg  ...     1\n",
              "3  f0dc068a8.jpg  ...     1\n",
              "4  00d639396.jpg  ...     1\n",
              "\n",
              "[5 rows x 4 columns]"
            ]
          },
          "metadata": {
            "tags": []
          },
          "execution_count": 19
        }
      ]
    },
    {
      "cell_type": "code",
      "metadata": {
        "colab": {
          "base_uri": "https://localhost:8080/"
        },
        "id": "9MdqHQVr9inL",
        "outputId": "d5a63abd-deb2-4ec8-e7bb-f8f7afede698"
      },
      "source": [
        "# Agrupando por Imagem e contabilizando os erros de cada uma\n",
        "defect_type = defect_class_mask_df.groupby(['ImageId'])['mask'].sum()\n",
        "defect_type"
      ],
      "execution_count": 22,
      "outputs": [
        {
          "output_type": "execute_result",
          "data": {
            "text/plain": [
              "ImageId\n",
              "0002cc93b.jpg    1\n",
              "0007a71bf.jpg    1\n",
              "000a4bcdd.jpg    1\n",
              "000f6bf48.jpg    1\n",
              "0014fce06.jpg    1\n",
              "                ..\n",
              "ffcf72ecf.jpg    1\n",
              "fff02e9c5.jpg    1\n",
              "fffe98443.jpg    1\n",
              "ffff4eaa8.jpg    1\n",
              "ffffd67df.jpg    1\n",
              "Name: mask, Length: 5474, dtype: int64"
            ]
          },
          "metadata": {
            "tags": []
          },
          "execution_count": 22
        }
      ]
    }
  ]
}